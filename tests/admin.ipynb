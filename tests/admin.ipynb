{
 "cells": [
  {
   "cell_type": "markdown",
   "metadata": {
    "collapsed": true,
    "pycharm": {
     "name": "#%% md\n"
    }
   },
   "source": [
    "## This doc designed for local operate of admin"
   ]
  },
  {
   "cell_type": "markdown",
   "source": [
    "create new goods, please specify your markdown file path"
   ],
   "metadata": {
    "collapsed": false,
    "pycharm": {
     "name": "#%% md\n"
    }
   }
  },
  {
   "cell_type": "code",
   "execution_count": null,
   "outputs": [],
   "source": [
    "FILE_PATH='../shop/goods/example.md'\n",
    "\n",
    "import requests\n",
    "\n",
    "from myweb2.settings import base\n",
    "\n",
    "url = 'http://hdcjh.xyz/shop/goods/create_from_file/'\n",
    "headers = {\n",
    "    'myweb2-secret': base.WECHAT['aes_key'],\n",
    "}\n",
    "files = {\n",
    "    base.WECHAT['aes_key']: open(FILE_PATH, 'rb')\n",
    "}\n",
    "resp = requests.post(url, files=files)\n",
    "resp.text"
   ],
   "metadata": {
    "collapsed": false,
    "pycharm": {
     "name": "#%%\n"
    }
   }
  },
  {
   "cell_type": "code",
   "execution_count": null,
   "outputs": [],
   "source": [],
   "metadata": {
    "collapsed": false,
    "pycharm": {
     "name": "#%%\n"
    }
   }
  }
 ],
 "metadata": {
  "kernelspec": {
   "display_name": "Python 3",
   "language": "python",
   "name": "python3"
  },
  "language_info": {
   "codemirror_mode": {
    "name": "ipython",
    "version": 2
   },
   "file_extension": ".py",
   "mimetype": "text/x-python",
   "name": "python",
   "nbconvert_exporter": "python",
   "pygments_lexer": "ipython2",
   "version": "2.7.6"
  }
 },
 "nbformat": 4,
 "nbformat_minor": 0
}